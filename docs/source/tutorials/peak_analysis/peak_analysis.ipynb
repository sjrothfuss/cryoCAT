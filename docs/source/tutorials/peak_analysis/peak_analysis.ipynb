{
 "cells": [
  {
   "cell_type": "markdown",
   "metadata": {},
   "source": [
    "## Peak Analysis\n",
    "\n",
    "* The peak analysis module provides tools to analyze the template candidates for template matching in STOPAGAP or GAPStop<sup>TM</sup>. The results can be used to set up the parameters for the template matching.\n",
    "\n",
    "* The example files for this tutorial can be found [here](https://github.com/turonova/cryoCAT/tree/main/docs/source/tutorials/peak_analysis/inputs/). The expected output is [here](https://github.com/turonova/cryoCAT/tree/main/docs/source/tutorials/peak_analysis/inputs/expected_outputs/)."
   ]
  },
  {
   "cell_type": "markdown",
   "metadata": {},
   "source": [
    "### Template file\n",
    "\n",
    "* The template file is used to specify the inputs and also write out some of the results of the peak analysis.\n",
    "* It is a *.csv file that stores the table containing columns that has to be set by users as well as columns that will \n",
    "be filled during the analysis.\n",
    "* Internally, the table is loaded as pandas DataFrame.\n",
    "* **IMPORTANT** during the peak analysis, the file has to be closed otherwise it cannot be written into which will results\n",
    "in \"permission denied\" error.\n",
    "\n",
    "#### Structure\n",
    "* The first column (without the header) is the unique id of each experiment.\n",
    "* __Done__ (True/False): Whether the main run_analysis is completed. When run_analysis is done, it is set to True. For other function if False, the row will be skipped.\n",
    "* Following columns that need to be set by user:\n",
    "\n",
    "    * __Structure__ (string): name of the structure (i.e. ribosome, npc whole, npc, ...). The inputs related to this structure should be in the folder parent_folder_path/structure.\n",
    "\n",
    "    * __Map type__ (string): the type of the template, e.g. sta (map from subtomo), sta_sg from stopgram subtomo, model etc. - not really used in the analysis, but can be useful for filtering.\n",
    "\n",
    "    * __Template__ (string): name of the template (has to be in em format); without .em extension.\n",
    "\n",
    "    * __Mask__ (string): mask to use for the analysis (the same soft mask as used in TM).\n",
    "\n",
    "    * __Mask__ is tight (True/False): whether the Mask is tight or not.\n",
    "\n",
    "    * __Tight mask__ (string): name of the sharp, very tight mask used for voxel counting and bounding box measurements. It has to be .em file format, without extension.\n",
    "\n",
    "    * __Compare__ (string): type of structure to compare the tempalte to; 'tmpl' will compare the template to itself, 'subtomo' to subtomogram from 'Tomo map', structure_name to a different structure (e.g. set it to 'ribosome' will compare the tempalte to the ribosome specified in 'Tomo map').\n",
    "\n",
    "    * __Tomo map__ (string): name of the \"tomogram\" map (can be subtomogram, different sta map) in .em format (wihtout .em extension). This map is fixed, while the \"Template\" map is being rotated. It has to be localized in parent_folder_path/structure/. For subtomo this field is filled automatically upon calling create_subtomograms_for_tm.\n",
    "\n",
    "    * __Symmetry__ (int): C symmetry\n",
    "\n",
    "    * __Apply wedge__ (True/False): whether to apply wedge compensation or not. Relevant only for subtomo comparison. Should be set to True for normal cases.\n",
    "\n",
    "    * __Angles__ (string): name (including the csv extension) of the angle_list file that should be used for the analysis. It should be located in angle_list_path\n",
    "\n",
    "    * __Degrees__ (int): angular step in degrees.\n",
    "\n",
    "    * __Apply angular offset__ (True/False): whether to apply additional offset w.r.t. to starting angle (e.g. to check how sensitive the peak value is to this). If True, the half of the \"Degrees\" will be used to introduce the maximal offset for given angular step.\n",
    "\n",
    "    * __Phi, Theta, Psi__ (floats): Starting angles for subtomo analysis (to have starting position at 0 difference). Is automatically filled by create_subtomograms_for_tm function. They are irrelevant for tmpl and other structure type of comparison.\n",
    "\n",
    "    * __Binning__ (int): the binning of the template. \n",
    "    * __Pixelsize__ (float): the voxel size of the tempalte in Angstroms.\n",
    "    * __Boxsize__ (int): size of the dimension of the template .em file.\n",
    "    * __Motl__ (string): Only for subtomo comparison. Motl file (in .em format but without extension) to be used to localize the best subtomogram position and orientation in tomogram. Should be in parent_folder_path/structure/. Used in create_subtomograms_for_tm.\n",
    "    * __Tomo created__ (True/False): Only for subtomo comparision. Used in create_subtomograms_for_tm -  if False the subtomogram will be created and it will set it to True. If True it will not be created again.\n",
    "    * __Tomogram__ (string): name of the tomogram (localized in) parent_folder_path folder. It has to be .mrc format and the extension of the file has to be .mrc (not .rec), the extension is not specified in the name.\n",
    "\n",
    "* The rest of the columns in the *.csv files will be filled during the analysis:\n",
    "    * __Output folder__ (string): name of the output folder for all the results. To ensure uniqueness it is created as id_#id_results. Is filled automatically by run_analysis. \n",
    "    * __Voxels__ (int): number of voxels in the soft mask (\"Mask\"). Filled in by get_mask_stats.\n",
    "    * __Voxels__ TM (int): number of the voxels in the sharp mask (\"Tight mask\"). Filled in by get_mask_stats.\n",
    "    * __Dim x, y, z__ (ints): dimensions of the structure tight bounding box computed from the \"Tight mask\". Filled in by get_mask_stats.\n",
    "    * __Solidity__ (float): Solidity of the \"Tight mask\", computed as number of filled voxels divided by volume of the convex hull. Filled in by get_mask_stats.\n",
    "    * __Peak value__ (float): value of peak in _scores.em. Filled by compute_center_peak_stats_and_profiles.\n",
    "    * __Peak x, y, z__ (ints): position of the peak in the scores.em map. Filled by compute_center_peak_stats_and_profiles.\n",
    "    * __VC dist_all__ (int): voxel count of the label corresponding to the peak position from the _dist_all.em distance map (the label is written out as _dist_all_label.em). Computed by compute_dist_maps_voxels. \n",
    "    * __VC dist_normals__ (int): voxel count of the label corresponding to the peak position from the _dist_normals.em distance map (the label is written out as _dist_normals_label.em). Computed by compute_dist_maps_voxels. \n",
    "    * __VC dist_inplane__ (int): voxel count of the label corresponding to the peak position from the _dist_inplane.em distance map (the label is written out as _dist_inplane_label.em). Computed by compute_dist_maps_voxels. \n",
    "    * __Solidity dist_all__ (float): Solidity of the label of _dist_all_label.em. Computed by compute_dist_maps_voxels.\n",
    "    * __Solidity dist_normals__ (float): Solidity of the label of _dist_normals_label.em. Computed by compute_dist_maps_voxels.\n",
    "    * __Solidity dist_inplane__ (float): Solidity of the label of _dist_inplane_label.em. Computed by compute_dist_maps_voxels.\n",
    "    * __VCO dist_all__ (int): same as VC dist_all but morphological opening was performed on the label (_dist_all_label_open.em). Computed by compute_dist_maps_voxels.\n",
    "    * __VCO dist_normals__ (int): same as VC dist_normals but morphological opening was performed on the label (_dist_normals_label_open.em). Computed by compute_dist_maps_voxels.\n",
    "    * __VCO dist_inplane__ (int): same as VC dist_inplane but morphological opening was performed on the label (_dist_inplane_label_open.em). Computed by compute_dist_maps_voxels.\n",
    "    * __O dist_all x, y, z__ (ints): size of the bounding box of _dist_all_label_open.em. Computed by compute_dist_maps_voxels.\n",
    "    * __O dist_normals x, y, z__ (ints): size of the bounding box of _dist_normals_label_open.em. Computed by compute_dist_maps_voxels.\n",
    "    * __O dist_inplane x, y, z__ (ints): size of the bounding box of _dist_inplane_label_open.em. Computed by compute_dist_maps_voxels.\n",
    "    * __Drop x,y,z__ (floats): drop of the voxels neigbouring the peak (connectivity 1), computed as (v\\[px-1\\]+v\\[px+1\\])/2, where px is peak center in x. Computed by compute_center_peak_stats_and_profiles.\n",
    "    * __Mean 1-5__ (floats): mean values of the peak surroundings (1 is for sphere of radius one, 5 for radius 5) Computed by compute_center_peak_stats_and_profiles.\n",
    "    * __Median 1-5__ (floats): median values of the peak surroundings (1 is for sphere of radius one, 5 for radius 5) Computed by compute_center_peak_stats_and_profiles.\n",
    "    * __Var 1-5__ (floats): variance values of the peak surroundings (1 is for sphere of radius one, 5 for radius 5) Computed by compute_center_peak_stats_and_profiles."
   ]
  },
  {
   "cell_type": "markdown",
   "metadata": {},
   "source": [
    "### Setup the notebook"
   ]
  },
  {
   "cell_type": "code",
   "execution_count": 1,
   "metadata": {},
   "outputs": [],
   "source": [
    "%load_ext autoreload\n",
    "%autoreload 2"
   ]
  },
  {
   "cell_type": "code",
   "execution_count": 2,
   "metadata": {},
   "outputs": [],
   "source": [
    "from cryocat import pana"
   ]
  },
  {
   "cell_type": "code",
   "execution_count": 3,
   "metadata": {},
   "outputs": [],
   "source": [
    "import warnings\n",
    "warnings.filterwarnings('ignore')"
   ]
  },
  {
   "attachments": {},
   "cell_type": "markdown",
   "metadata": {},
   "source": [
    "### Setup paths"
   ]
  },
  {
   "cell_type": "code",
   "execution_count": null,
   "metadata": {},
   "outputs": [],
   "source": [
    "parent_folder_path = './inputs/'\n",
    "angle_list_path = './inputs/'\n",
    "template_list = './inputs/template_list.csv'\n",
    "wedge_path = './inputs/'\n"
   ]
  },
  {
   "attachments": {},
   "cell_type": "markdown",
   "metadata": {},
   "source": [
    "### Full analysis"
   ]
  },
  {
   "cell_type": "markdown",
   "metadata": {},
   "source": [
    "#### Set indices\n",
    "\n",
    "* Set indices to run the analysis on - it has to be a list"
   ]
  },
  {
   "cell_type": "code",
   "execution_count": null,
   "metadata": {},
   "outputs": [],
   "source": [
    "indices = [0,1,2,3]"
   ]
  },
  {
   "cell_type": "markdown",
   "metadata": {},
   "source": [
    "#### Extract subtomograms\n",
    "* Find the best subtomo (based on CC) and cuts it out to prepare it for the peak analysis\n",
    "* It does not take the indices - instead it checks if \"Tomo created\" is True or False and gets subtomos for all False ones\n",
    "* The subtomo is stored in parent_folder_path/structure_name/subtomo_name.em where subtomo_name is created based on motl name and tomo name (all in template csv)\n"
   ]
  },
  {
   "cell_type": "code",
   "execution_count": null,
   "metadata": {},
   "outputs": [],
   "source": [
    "pana.create_subtomograms_for_tm(template_list, parent_folder_path)"
   ]
  },
  {
   "cell_type": "markdown",
   "metadata": {},
   "source": [
    "#### Run peak analysis\n",
    "* Run basic analysis on peak - the inputs are specified in the csv file with template\n",
    "* Creates _scores.em, _angles.em, _dist_all.em, _dist_normals.em, _dist_inplane.em, and .csv file with basic stats - the mask overlap is for the soft mask used in TM\n"
   ]
  },
  {
   "cell_type": "code",
   "execution_count": null,
   "metadata": {},
   "outputs": [],
   "source": [
    "pana.run_analysis(template_list, indices, angle_list_path, wedge_path, parent_folder_path)"
   ]
  },
  {
   "cell_type": "markdown",
   "metadata": {},
   "source": [
    "#### Analysis of distance maps\n",
    "* Analysis of distance maps - it will get the area around the scores peak and label it, counts voxels, solidity and bounding boxes for all three distance maps\n",
    "* Creates labeled dist maps: _dist_all_label.em, _dist_normals_label.em, _dist_inplane_label.em, _dist_all_label_open.em, _dist_normals_label_open.em, _dist_inplane_label_open.em\n"
   ]
  },
  {
   "cell_type": "code",
   "execution_count": null,
   "metadata": {},
   "outputs": [],
   "source": [
    "pana.compute_dist_maps_voxels(template_list, indices, parent_folder_path)"
   ]
  },
  {
   "cell_type": "markdown",
   "metadata": {},
   "source": [
    "#### Mask statistics\n",
    "* Compute basic statistics on tight masks"
   ]
  },
  {
   "cell_type": "code",
   "execution_count": null,
   "metadata": {},
   "outputs": [],
   "source": [
    "pana.get_mask_stats(template_list, indices, parent_folder_path)"
   ]
  },
  {
   "cell_type": "markdown",
   "metadata": {},
   "source": [
    "#### Peak line profiles and statistics\n",
    "* Get peak statistics\n",
    "* Creates id_5_peak_line_profiles.csv file with peak profiles in x,y,z"
   ]
  },
  {
   "cell_type": "code",
   "execution_count": null,
   "metadata": {},
   "outputs": [],
   "source": [
    "pana.compute_center_peak_stats_and_profiles(template_list, indices, parent_folder_path)"
   ]
  },
  {
   "cell_type": "markdown",
   "metadata": {},
   "source": [
    "#### Tight mask overlap\n",
    "* Sharp mask overlap is not computed during the analysis (only the overlap of the mask used for TM is)\n",
    "* To compute the sharp and very tight mask overlap one can run pana.compute_sharp_mask_overlap(template_list,indices, angle_list_path, parent_folder_path) \n",
    "* Since it can be time consuming for large boxes the following function first check if the same analysis\n",
    "* was not already done on the same tight mask and angles and if so, just copies the results, otherwise it computes from scratch"
   ]
  },
  {
   "cell_type": "code",
   "execution_count": null,
   "metadata": {},
   "outputs": [],
   "source": [
    "pana.check_existing_tight_mask_values(template_list, indices, parent_folder_path, angle_list_path)"
   ]
  },
  {
   "cell_type": "markdown",
   "metadata": {},
   "source": [
    "#### Angular histograms\n",
    "* Additional analysis on angles\n",
    "* Creates histogram of scores values and peak value dependency on different angles\n",
    "* Creates outputs in _gradual_angles_analysis.csv and '_gradual_angles_histograms.csv files in the output folders"
   ]
  },
  {
   "cell_type": "code",
   "execution_count": null,
   "metadata": {},
   "outputs": [],
   "source": [
    "pana.run_angle_analysis(template_list, indices, wedge_path, parent_folder_path, write_output = True)"
   ]
  },
  {
   "cell_type": "markdown",
   "metadata": {},
   "source": [
    "#### Summary PDF \n",
    "* Create pdf summary - fully based on the csv file\n",
    "* Creates _summary.pdf"
   ]
  },
  {
   "cell_type": "code",
   "execution_count": null,
   "metadata": {},
   "outputs": [],
   "source": [
    "pana.create_summary_pdf(template_list, indices, parent_folder_path)"
   ]
  }
 ],
 "metadata": {
  "kernelspec": {
   "display_name": "cryocat",
   "language": "python",
   "name": "python3"
  },
  "language_info": {
   "codemirror_mode": {
    "name": "ipython",
    "version": 3
   },
   "file_extension": ".py",
   "mimetype": "text/x-python",
   "name": "python",
   "nbconvert_exporter": "python",
   "pygments_lexer": "ipython3",
   "version": "3.9.16"
  },
  "orig_nbformat": 4
 },
 "nbformat": 4,
 "nbformat_minor": 2
}
