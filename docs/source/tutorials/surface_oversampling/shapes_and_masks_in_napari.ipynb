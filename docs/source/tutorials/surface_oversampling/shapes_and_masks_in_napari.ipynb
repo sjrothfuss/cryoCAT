{
 "cells": [
  {
   "cell_type": "markdown",
   "metadata": {},
   "source": [
    "## Contours and mask on Napari"
   ]
  },
  {
   "cell_type": "markdown",
   "metadata": {},
   "source": [
    "### Dependencies\n",
    "* Napari should be installed on extra:\n",
    "\n",
    "```\n",
    "pip install napari\n",
    "```"
   ]
  },
  {
   "cell_type": "code",
   "execution_count": null,
   "metadata": {},
   "outputs": [],
   "source": [
    "%load_ext autoreload\n",
    "%autoreload 2\n",
    "\n",
    "import napari\n",
    "import numpy as np\n",
    "import pandas as pd\n",
    "from cryocat import cryomap\n",
    "from cryocat import surfsamp\n"
   ]
  },
  {
   "cell_type": "markdown",
   "metadata": {},
   "source": [
    "### Input data\n",
    "- The data for this tutorial can be downloaded [here](https://oc.biophys.mpg.de/owncloud/s/XRL6qqNbMQ4FH6e).\n",
    "- There's no expected output for this tutorial since the drawing is user-generated. However, you can refer to 'inputs/040_1_shape.csv' as an example shape from us for this tomogram and 'inputs/masks/040_generated_mask2.mrc' on owncloud as an example mask."
   ]
  },
  {
   "cell_type": "markdown",
   "metadata": {},
   "source": [
    "### Initialize the napari viewer and load tomogram"
   ]
  },
  {
   "cell_type": "code",
   "execution_count": null,
   "metadata": {},
   "outputs": [],
   "source": [
    "#Initialize the napari viewer:\n",
    "view = napari.Viewer()\n",
    "# Load tomogram from owncloud and add it to the viewer\n",
    "tomo = cryomap.read('040.mrc')\n",
    "view.add_image(tomo)"
   ]
  },
  {
   "cell_type": "markdown",
   "metadata": {},
   "source": [
    "### Contours in Napari"
   ]
  },
  {
   "cell_type": "markdown",
   "metadata": {},
   "source": [
    "#### Draw contour on Napari\n",
    "1. In the Napari GUI, click the small cube button at the bottom left of the screen to change the order of the visible axes. You can also adjust the visualization contrast using the contrast limit.\n",
    "![step_1](./media/label_step1.png)\n",
    "2. Create a new shape layer using the polygon button located in the middle left. Then, draw the contour using the \"Add Polygons\" button.\n",
    "Drawing contours on multiple axes can improve the accuracy of sampling points on the target surfaces. For a detailed guide on using shape layer, refer to page [here](https://napari.org/dev/howtos/layers/shapes.html)\n",
    "![step_2](./media/label_step2.png)\n"
   ]
  },
  {
   "cell_type": "markdown",
   "metadata": {},
   "source": [
    "#### Save shapes into CSV\n",
    "Once you've finished drawing, you can save your shapes to a CSV file by running the following code. The CSV file can later be loaded into Napari for modifications and visualization."
   ]
  },
  {
   "cell_type": "code",
   "execution_count": null,
   "metadata": {},
   "outputs": [],
   "source": [
    "def save_shapes(shape_layer, output_file_name):\n",
    "    \"\"\"This function saves the shape layer data into a csv file.\n",
    "\n",
    "    Parameters\n",
    "    ----------\n",
    "    shape_layer : list\n",
    "        A list of numpy arrays where each array represents a shape layer. Each array is expected to have three columns representing the x, y, and z coordinates respectively.\n",
    "    output_file_name : str\n",
    "        The name of the output file where the shape layer data will be saved.\n",
    "\n",
    "    Returns\n",
    "    -------\n",
    "    None\n",
    "\n",
    "    Notes\n",
    "    -----\n",
    "    The function creates a pandas DataFrame from the shape layer data and saves it into a csv file. The DataFrame has four columns: 's_id', 'x', 'y', and 'z'. The 's_id' column represents the shape layer id, 'x', 'y', and 'z' columns represent the coordinates of the shape layer.\n",
    "    \"\"\"\n",
    "    x = []\n",
    "    y = []\n",
    "    z = []\n",
    "    s_id = []\n",
    "\n",
    "    for i in range(len(shape_layer)):\n",
    "        x.append(shape_layer[i][:, 2])\n",
    "        y.append(shape_layer[i][:, 1])\n",
    "        z.append(shape_layer[i][:, 0])\n",
    "        s_id.append(np.full(shape_layer[i].shape[0], i))\n",
    "\n",
    "    x = np.concatenate(x, axis=0)\n",
    "    y = np.concatenate(y, axis=0)\n",
    "    z = np.concatenate(z, axis=0)\n",
    "    s_id = np.concatenate(s_id, axis=0)\n",
    "\n",
    "    # dictionary of lists\n",
    "    dict = {\"s_id\": s_id, \"x\": x, \"y\": y, \"z\": z}\n",
    "\n",
    "    df = pd.DataFrame(dict)\n",
    "    # saving the dataframe\n",
    "    df.to_csv(output_file_name, index=False)\n",
    "\n",
    "\n",
    "# output file name\n",
    "output = 'inputs/040_1_shape_fromUser.csv'\n",
    "# saving shapes for future work\n",
    "shapes_data=view.layers[1].data\n",
    "save_shapes(shapes_data, output)"
   ]
  },
  {
   "cell_type": "markdown",
   "metadata": {},
   "source": [
    "#### Read and view shape CSV on napari"
   ]
  },
  {
   "cell_type": "code",
   "execution_count": null,
   "metadata": {},
   "outputs": [],
   "source": [
    "# opening the shape layer which is provided in inputs folder\n",
    "polygons = surfsamp.SamplePoints.load_shapes('inputs/040_1_shape.csv')\n",
    "shapes_layer = view.add_shapes(polygons, shape_type='polygon')"
   ]
  },
  {
   "cell_type": "markdown",
   "metadata": {},
   "source": [
    "### Masks in Napari"
   ]
  },
  {
   "cell_type": "markdown",
   "metadata": {},
   "source": [
    "#### Draw binary segmentation on napari\n",
    "Manually drawing a binary mask can be time-consuming. Depending on your dataset, a more efficient solution may be available. Such as using [MemBrain-Seg](https://github.com/teamtomo/membrain-seg) for membrane segmentation in 3D for cryo-ET."
   ]
  },
  {
   "cell_type": "code",
   "execution_count": null,
   "metadata": {},
   "outputs": [],
   "source": [
    "# create a empty label\n",
    "label = np.zeros(tomo.shape, dtype=int)\n",
    "# add label to the viewer\n",
    "view.add_labels(label)"
   ]
  },
  {
   "cell_type": "markdown",
   "metadata": {},
   "source": [
    "1. In the Napari GUI, select the label layer and choose the brush tool at the top. You can draw the mask by left-clicking and dragging your mouse. To draw in 3D, set 'n edit dim' to 3. To label multiple objects on same tomogram, assign a different number to each label before drawing. For more information of how to use label in napari, refer to page [here](https://napari.org/dev/howtos/layers/labels.html#)\n",
    "![step_1mask](./media/mask_step1.png)"
   ]
  },
  {
   "cell_type": "markdown",
   "metadata": {},
   "source": [
    "#### Save binary segmentation into mrc\n",
    "Once you've finished drawing, you can save your labels as an MRC file using the following code. The MRC file can later be opened in Napari for further analysis."
   ]
  },
  {
   "cell_type": "code",
   "execution_count": null,
   "metadata": {},
   "outputs": [],
   "source": [
    "# output file path\n",
    "output = 'inputs/040_mask_fromUser.mrc'\n",
    "# saving label for future work\n",
    "label = view.layers[1].data\n",
    "cryomap.write(label, output, data_type='<f4')"
   ]
  },
  {
   "cell_type": "markdown",
   "metadata": {},
   "source": [
    "#### Simple postprocess of binary segmentation\n",
    "In surfsamp, `process_mask` can perform simple morphological operations on a given mask. It can also be used for manually drawn masks to refine or modify them as needed. There are four available options: 'closing,' 'opening,' 'dilation,' and 'erosion.'"
   ]
  },
  {
   "cell_type": "code",
   "execution_count": null,
   "metadata": {},
   "outputs": [],
   "source": [
    "# for example to dilate the mask for 2 pixels\n",
    "dil_label = surfsamp.SamplePoints.process_mask(label,2,'dilation',data_type='int')\n",
    "view.add_labels(dil_label)"
   ]
  },
  {
   "cell_type": "markdown",
   "metadata": {},
   "source": [
    "#### Read and view mask as label on napari"
   ]
  },
  {
   "cell_type": "code",
   "execution_count": null,
   "metadata": {},
   "outputs": [],
   "source": [
    "# opening the mask downloaded from owncloud\n",
    "input = '040_generated_mask_2.mrc'\n",
    "mask = cryomap.read(input, data_type='int')\n",
    "view.add_labels(mask)"
   ]
  }
 ],
 "metadata": {
  "kernelspec": {
   "display_name": "cryonapari",
   "language": "python",
   "name": "python3"
  },
  "language_info": {
   "codemirror_mode": {
    "name": "ipython",
    "version": 3
   },
   "file_extension": ".py",
   "mimetype": "text/x-python",
   "name": "python",
   "nbconvert_exporter": "python",
   "pygments_lexer": "ipython3",
   "version": "3.9.16"
  }
 },
 "nbformat": 4,
 "nbformat_minor": 2
}
