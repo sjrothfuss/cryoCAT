{
 "cells": [
  {
   "cell_type": "markdown",
   "metadata": {},
   "source": [
    "# Maps basics\n",
    "\n",
    "* Internally, masks are stored as 3D numpy.ndarray objects.\n",
    "* Externally, masks can be loaded from and written as EM and MRC files."
   ]
  },
  {
   "cell_type": "markdown",
   "metadata": {},
   "source": [
    "## Work with maps: Basic examples\n",
    "In the following section, some examples of how to work with maps are provided. For a complete list of functions, please refer to the `cryomap` module in the API reference. <br>\n",
    "NOTE: For all the functions displayed, it is assumed that the `cryomap` module is imported:"
   ]
  },
  {
   "cell_type": "code",
   "execution_count": null,
   "metadata": {},
   "outputs": [],
   "source": [
    "import cryocat\n",
    "from cryocat import cryomap"
   ]
  }
 ],
 "metadata": {
  "kernelspec": {
   "display_name": "cryocat",
   "language": "python",
   "name": "python3"
  },
  "language_info": {
   "name": "python",
   "version": "3.9.18"
  }
 },
 "nbformat": 4,
 "nbformat_minor": 2
}
