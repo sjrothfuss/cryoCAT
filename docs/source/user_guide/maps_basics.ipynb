{
 "cells": [
  {
   "cell_type": "markdown",
   "metadata": {},
   "source": [
    "# Maps basics\n",
    "\n",
    "* Internally, masks are stored as 3D numpy.ndarray objects in which each element represents a single voxel.\n",
    "* Externally, masks can be loaded from and written as EM, MRC or REC files."
   ]
  },
  {
   "cell_type": "markdown",
   "metadata": {},
   "source": [
    "## Work with maps: Basic examples\n",
    "In the following section, some examples of how to work with maps are provided. For a complete list of functions, please refer to the `cryomap` module in the API reference. <br>\n",
    "NOTE: For all the functions displayed, it is assumed that the `cryomap` module is imported:"
   ]
  },
  {
   "cell_type": "code",
   "execution_count": null,
   "metadata": {},
   "outputs": [],
   "source": [
    "import cryocat\n",
    "from cryocat import cryomap"
   ]
  },
  {
   "cell_type": "markdown",
   "metadata": {},
   "source": [
    "### Read / write maps from / to a file\n",
    "The first step to work with a map is to load it and store it as a numpy.ndarray object. This is accomplished with the `read()` function. The resulting array will have the same shape as the box dimensions of the the map."
   ]
  },
  {
   "cell_type": "code",
   "execution_count": null,
   "metadata": {},
   "outputs": [],
   "source": [
    "my_map = cryomap.read('/path/to/my_map.em')"
   ]
  },
  {
   "cell_type": "markdown",
   "metadata": {},
   "source": [
    "Conversely, to write a 3D numpy.ndarray object to an EM or MRC file, you need to use the `write()` function as displayed in the example below. If you pass a file name that already exists, that file will be overwritten by default. To prevent overwriting  existing files, you need to specify `overwrite=False` when calling the function."
   ]
  },
  {
   "cell_type": "code",
   "execution_count": null,
   "metadata": {},
   "outputs": [],
   "source": [
    "# Write 'my_map' ndarray to a new EM file\n",
    "cryomap.write(my_map, '/path/to/my_map.em')\n",
    "\n",
    "# Generate an ndarray and write it to an MRC file after having casted the dtypoe to float16\n",
    "import numpy as np\n",
    "my_rand_map = np.random.rand(50, 50, 50)\n",
    "cryomap.write(my_rand_map, '/path/to/my_rand_map.mrc', data_type='float16')"
   ]
  },
  {
   "cell_type": "markdown",
   "metadata": {},
   "source": [
    "#### Storing weights and labels associated with maps in HDF5 files\n"
   ]
  },
  {
   "cell_type": "markdown",
   "metadata": {},
   "source": [
    "HDF5 files are containers that are useful to store labels associated to array-like data as maps and volumes. The installation of cryoCAT will automatically install the h5py package as required dependency (please, refer to this [link](https://docs.h5py.org/en/stable/index.html#) for the official h5py documentation). In cryoCAT, you can use the `read_hdf5()` and the `write_hdf5()` functions to read and write labels and weights associated with a map, for instance from a segmentation prediction job executed on a map or volume. <br/>\n",
    "Examples:"
   ]
  },
  {
   "cell_type": "code",
   "execution_count": null,
   "metadata": {},
   "outputs": [],
   "source": [
    "# Write an HDF5 file storing a tomogram volume and the associated labels (e.g. from a segmentation prediction)\n",
    "tomo_hdf5 = cryomap.write_hdf5('/path/to/tomo_map.mrc', labels='/path/to/segmentation_volume.mrc', output_name='/path/to/tomo_map.hdf5')\n",
    "\n",
    "# Read and inspect the content of an HDF5 file\n",
    "tomo_hdf5 = cryomap.read_hdf5('/path/to/tomo_map.hdf5', dataset_name=\"raw\", print_datasets=True) #load 'tomo_map.hdf5' and print out the list of datasets stored in it and the dataset \"raw\""
   ]
  },
  {
   "cell_type": "markdown",
   "metadata": {},
   "source": [
    "### Convert between different file formats\n",
    "\n",
    "It is possible to convert a file from EM format to MRC format and viceversa with the `em2mrc()` and `mrc2em()` functions, respectively. Both these functions offer the possibility of inverting the contrast of the original map by passing the option `invert=True` when calling the function. To prevent overwriting  existing files, you need to specify `overwrite=False` when calling the function. If not specified, the output file will be saved with the same name as the original map with the changed extension. Note that the path to the orginal file must be passed as input to these functions, not an ndarray.<br/>\n",
    "Examples:"
   ]
  },
  {
   "cell_type": "code",
   "execution_count": null,
   "metadata": {},
   "outputs": [],
   "source": [
    "cryomap.mrc2em('/path/to/my_map.mrc') # Convert 'my_map.mrc' to 'my_map.em'\n",
    "cryomap.em2mrc('/path/to/my_map.em', output_name=\"converted_map.mrc\") # Convert an 'my_map.em' to 'converted_map.mrc' "
   ]
  }
 ],
 "metadata": {
  "kernelspec": {
   "display_name": "cryocat",
   "language": "python",
   "name": "python3"
  },
  "language_info": {
   "name": "python",
   "version": "3.9.18"
  }
 },
 "nbformat": 4,
 "nbformat_minor": 2
}
