{
 "cells": [
  {
   "cell_type": "markdown",
   "metadata": {},
   "source": [
    "## Geometric conventions\n",
    "### Particle orientation\n",
    "\n",
    "* Particle orientations can be described using Euler angles, unit quaternions, axis-angle-representations or rotation matrices.\n",
    "* Any of these representations can serve to initialize a scipy rotation object.\n",
    "* By default, Euler angles are handled in the '*zxz*' convention, referring to extrinsic rotations around the respective axes.\n",
    "* In the '*zxz*' convention, the angles have the following ranges:\n",
    "    * The first angle ranges between -180° and 180° (including both).  \n",
    "    * The second angle ranges between 0° and 180° (including both).\n",
    "    * The third angle ranges between -180° and 180° (including both).\n",
    "* Unit quaternions are handled in the scalar-last order: $q = xi + yj + zk + w$, $\\Vert q\\Vert = 1$.\n",
    "* In the axis-angle-representation of a rotation (or particle orientation), a unit vector $v$ serves as rotation axis, whereas an angle \n",
    "    $\\theta$ describes the amount of rotation. The axis-angle is then given by $\\theta v$. \n",
    "* Rotation matrices in 3-dimensional space are real $3\\times 3$ matrices $A$ satisfying $\\det(A) = 1$, $A^T = A^{-1}$."
   ]
  }
 ],
 "metadata": {
  "language_info": {
   "name": "python"
  }
 },
 "nbformat": 4,
 "nbformat_minor": 2
}
