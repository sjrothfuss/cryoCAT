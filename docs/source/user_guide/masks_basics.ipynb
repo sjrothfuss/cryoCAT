{
 "cells": [
  {
   "cell_type": "markdown",
   "metadata": {},
   "source": [
    "# Masks basics\n",
    "Masks are maps that are used in the alignment operation during subtomogram averaging and classification, where they are part of the required inputs.\n",
    "- Internally, masks are stored as 3D numpy.ndarray objects.\n",
    "- Externally, masks can be loaded from and written as EM and MRC files.\n",
    "\n",
    "Masks can be distinguished in binary masks and masks with smooth edges:\n",
    "- In binary masks, voxels have only 0 and 1 values (e.g. masks from segmentations);\n",
    "- In masks with soft edges, voxels have values from 0 to 1. This can be accomplished applying a Gaussian filter to the mask."
   ]
  },
  {
   "cell_type": "markdown",
   "metadata": {},
   "source": [
    "### Work with masks: Basic examples\n",
    "In the following section, some examples of how to work with masks are provided. For a complete list of functions, please refer to the `cryomask` module in the API reference. <br>\n",
    "NOTE: For all the functions displayed, it is assumed that the `cryomask` module is imported:\n"
   ]
  },
  {
   "cell_type": "code",
   "execution_count": null,
   "metadata": {},
   "outputs": [],
   "source": [
    "import cryocat\n",
    "from cryocat import cryomask"
   ]
  },
  {
   "cell_type": "markdown",
   "metadata": {},
   "source": [
    "#### Generate a mask\n",
    "To create a mask different options are available. Thee most common are illustrated below:\n",
    "- **Spherical mask**: This is accomplished via the `spherical_mask()` function.\n",
    "- **Cylindrical mask**: This is accomplished via the `cylindrical_mask()` function.\n",
    "- **Ellipsoid mask**: This is accomplished via the `ellipsoid_mask()` function.\n",
    "- **Tight mask**: This is accomplished via the `map_tight_mask()` function and requires an input map from subtomogram averaging or single particle analysis.\n",
    "\n",
    "In addition, the `generate_mask()` function can be used to generate mask of the shape and dimensions specified in the mask name passed to the function."
   ]
  },
  {
   "cell_type": "markdown",
   "metadata": {},
   "source": [
    "#### Apply a Gaussian filter\n",
    "To add a Gaussian filter to a mask, the `add_gaussian()` function is available. The required arguments are the numpy.ndarray object of the input mask and the standard deviations of the Gaussian filter to apply (`sigma`)."
   ]
  },
  {
   "cell_type": "code",
   "execution_count": null,
   "metadata": {},
   "outputs": [],
   "source": [
    "filtered_mask = cryomask.add_gaussian(my_mask, 1)"
   ]
  },
  {
   "cell_type": "markdown",
   "metadata": {},
   "source": [
    "#### Add and subtract masks\n",
    "- To add two or multiple masks, the `union()` function is avalable. If an output path is provided, the resulting numpy.ndarray object will be written to a file.\n",
    "- To subtract two or multiple masks, the `subtraction()` function is available. If an output path is provided, the resulting numpy.ndarray object will be written to a file.\n",
    "  \n",
    "In both cases, the masks need to be provided as a list and the order of addition/subtraction will follow the order of the list elements."
   ]
  },
  {
   "cell_type": "markdown",
   "metadata": {},
   "source": [
    "#### Write a mask to file\n",
    "To write the numpy array object of a mask to a file, the `write_out()` function is available:"
   ]
  },
  {
   "cell_type": "code",
   "execution_count": null,
   "metadata": {},
   "outputs": [],
   "source": [
    "cryomask.write_out(my_mask, 'path/to/my_mask.em')"
   ]
  }
 ],
 "metadata": {
  "language_info": {
   "name": "python"
  }
 },
 "nbformat": 4,
 "nbformat_minor": 2
}
