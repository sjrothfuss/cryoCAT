{
 "cells": [
  {
   "cell_type": "markdown",
   "metadata": {},
   "source": [
    "# Masks basics\n",
    "Masks are maps that are used in the alignment operation during subtomogram averaging and classification, where they are part of the required inputs.\n",
    "\n",
    "* Internally, masks are stored as 3D numpy.ndarray objects.\n",
    "* Externally, masks can be loaded from and written as EM and MRC files.\n",
    "\n",
    "Masks can be distinguished in binary masks and masks with smooth edges:\n",
    "\n",
    "* In binary masks, voxels have only 0 and 1 values (e.g. masks from segmentations);\n",
    "* In masks with soft edges, voxels have values from 0 to 1. This can be accomplished applying a Gaussian filter to the mask."
   ]
  },
  {
   "cell_type": "markdown",
   "metadata": {},
   "source": [
    "### Work with masks: Basic examples\n",
    "In the following section, some examples of how to work with masks are provided. For a complete list of functions, please refer to the `cryomask` module in the API reference. <br>\n",
    "NOTE: For all the functions displayed, it is assumed that the `cryomask` module is imported:\n"
   ]
  },
  {
   "cell_type": "code",
   "execution_count": null,
   "metadata": {},
   "outputs": [],
   "source": [
    "import cryocat\n",
    "from cryocat import cryomask"
   ]
  },
  {
   "cell_type": "markdown",
   "metadata": {},
   "source": [
    "#### Generate a mask\n",
    "To create a mask different options are available. Thee most common are illustrated below:\n",
    "\n",
    "* **Spherical mask**: This is accomplished via the `spherical_mask()` function."
   ]
  },
  {
   "cell_type": "code",
   "execution_count": null,
   "metadata": {},
   "outputs": [],
   "source": [
    "sphere_mask = cryomask.spherical_mask(30, center= (20,15,15), radius=5) #this creates a spherical, binary hard-edge mask in a box of 30x30x30 voxels, centered on (20,15,15) and a radius of 5 voxels\n",
    "sphere_mask = cryomask.spherical_mask((20,25,20), radius=5, gaussian=1, gaussian_outwards=False) #this creates a spherical, soft-edge mask in a box of 20x25x20 voxels with a Gaussian filter applied with sigma value 1 centered around the sphere surface"
   ]
  },
  {
   "cell_type": "markdown",
   "metadata": {},
   "source": [
    "* **Cylindrical mask**: This is accomplished via the `cylindrical_mask()` function."
   ]
  },
  {
   "cell_type": "code",
   "execution_count": null,
   "metadata": {},
   "outputs": [],
   "source": [
    "cylinder_mask = cryomask.cylindrical_mask((20,40,40), radius=2, height=4, center=None, gaussian=0.4, gaussian_outwards=True, angles=(5,10,0), output_name = '/path/to/mask_r2_h4_g0-4.em') #this creates a cylindrical mask with a Gaussian filter outward from the mask surface, centered in a box of 20x40x40 voxels, with a radius of 2 voxels, a height of 4 voxels, and a Gaussian filter with sigma value 0.4 applied to the mask surface. The mask is rotated by 5 degrees around the x-axis and 10 degrees around the y-axis and it is saved in the specified path"
   ]
  },
  {
   "cell_type": "markdown",
   "metadata": {},
   "source": [
    "* **Ellipsoid mask**: This is accomplished via the `ellipsoid_mask()` function."
   ]
  },
  {
   "cell_type": "code",
   "execution_count": null,
   "metadata": {},
   "outputs": [],
   "source": [
    "ellips_mask = cryomask.ellipsoid_mask(40, radii=(5,15,10)) #this creates an ellipsoid hard-edge mask in a box of 40x40x40 voxels with radii of 5, 15 and 10 voxels"
   ]
  },
  {
   "cell_type": "markdown",
   "metadata": {},
   "source": [
    "* **Tight mask**: This is accomplished via the `map_tight_mask()` function and requires an input map from subtomogram averaging or single particle analysis. This kind of mask is usually required to compute the FSC curve."
   ]
  },
  {
   "cell_type": "code",
   "execution_count": null,
   "metadata": {},
   "outputs": [],
   "source": [
    "tight_mask = cryomask.map_tight_mask(input_map='/path/to/sta_or_spa_map.em', dilation_size=2, output_name='/path/to/tight_mask.em') #this will create a mask from the imput map by performing 2 iterations of dilation to extend the map\n",
    "tight_mask = cryomask.map_tight_mask(input_map='/path/to/sta_or_spa_map.em', gaussian= 3, gaussian_outwards=True, output_name='/path/to/tight_mask.em') #this will create a mask from the imput map by applying a Gaussian filter with sigma value 3 centered on the surface of the map to extend the map"
   ]
  },
  {
   "cell_type": "markdown",
   "metadata": {},
   "source": [
    "In addition, the `generate_mask()` function can be used to generate mask of the shape and dimensions specified in the mask name passed to the function."
   ]
  },
  {
   "cell_type": "code",
   "execution_count": null,
   "metadata": {},
   "outputs": [],
   "source": [
    "sphere_mask = cryomask.generate_mask('sphere_r20', mask_size=60) #this will create a sherical mask centered in a box of 60x60x60 pixels, with a radius of 20 pixels"
   ]
  },
  {
   "cell_type": "markdown",
   "metadata": {},
   "source": [
    "#### Apply a Gaussian filter\n",
    "To add a Gaussian filter to a mask, the `add_gaussian()` function is available. The required arguments are the numpy.ndarray object of the input mask and the standard deviations of the Gaussian filter to apply (`sigma`)."
   ]
  },
  {
   "cell_type": "code",
   "execution_count": null,
   "metadata": {},
   "outputs": [],
   "source": [
    "filtered_mask = cryomask.add_gaussian(my_mask, 1) #apply gaussian filyter to my_mask with sigma=1"
   ]
  },
  {
   "cell_type": "markdown",
   "metadata": {},
   "source": [
    "#### Add and subtract masks\n",
    "- To add two or multiple masks, the `union()` function is avalable. If an output path is provided, the resulting numpy.ndarray object will be written to a file.\n",
    "- To subtract two or multiple masks, the `subtraction()` function is available. If an output path is provided, the resulting numpy.ndarray object will be written to a file.\n",
    "  \n",
    "In both cases, the masks need to be provided as a list and the order of addition/subtraction will follow the order of the list elements."
   ]
  },
  {
   "cell_type": "markdown",
   "metadata": {},
   "source": [
    "#### Write a mask to file\n",
    "To write the numpy array object of a mask to a file, the `write_out()` function is available:"
   ]
  },
  {
   "cell_type": "code",
   "execution_count": null,
   "metadata": {},
   "outputs": [],
   "source": [
    "cryomask.write_out(my_mask, 'path/to/my_mask.em')"
   ]
  }
 ],
 "metadata": {
  "kernelspec": {
   "display_name": "cryocat",
   "language": "python",
   "name": "python3"
  },
  "language_info": {
   "name": "python",
   "version": "3.9.18"
  }
 },
 "nbformat": 4,
 "nbformat_minor": 2
}
