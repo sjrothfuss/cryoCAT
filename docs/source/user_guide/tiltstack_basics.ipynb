{
 "cells": [
  {
   "cell_type": "markdown",
   "metadata": {},
   "source": [
    "# Tiltstack and mdoc modules: Functions for processing tilt-series\n",
    "\n",
    "Tilt-series and mdoc files represent the starting data that typically one can start working with after a microscope session. For each target site, you collect a series of movies at different tilt angles and each movie (set of frames) should be corrected for beam-induced drift with dedicated softwares to get the final image file. Each image file belongnig to the same tilt-series would then be combined in a stack that can be processed to reconstruct the tomographic volume. Mdoc files store the metadata information related to the corresponding tilt-stack (e.g tilt angle, information about the electron dose, path to the indovidual frames etc.). <br/>\n",
    "CryoCAT offers a number of functions for processing the motion-corrected stacks until the alignment and tomographic volume reconstruction steps, for which a number of software are already in place. The accepted formats for tilt-stacks are MRC. In this section of the user guide, we illustrate some of the operations that can be performed on tilt-stacks using cryoCAT and we provide some examples."
   ]
  },
  {
   "cell_type": "markdown",
   "metadata": {},
   "source": [
    "### Pre-requisites\n",
    "Please, note that you need to load both the `tiltstack` nad the `mdoc` module to be able to manipulate tilt-stacks."
   ]
  },
  {
   "cell_type": "code",
   "execution_count": null,
   "metadata": {},
   "outputs": [],
   "source": [
    "from cryocat import tiltstack\n",
    "from cryocat import mdoc"
   ]
  },
  {
   "cell_type": "markdown",
   "metadata": {},
   "source": [
    "## Common pre-processing operations\n",
    "\n",
    "- **Crop a tilt-stack**: The `crop()` function in the `tiltstack` module allow to crop the images of a tilt-stack and therefore redefinig the stack dimensions. Example:"
   ]
  },
  {
   "cell_type": "code",
   "execution_count": null,
   "metadata": {},
   "outputs": [],
   "source": [
    "input"
   ]
  },
  {
   "cell_type": "markdown",
   "metadata": {},
   "source": [
    "- **Sort the stack images by their tilt angle**: Depending on the acquisition software, the final stack might or might not be sorted by tilt angles. In case it is not, a useful first step is sorting the images by their tilt angle. This can be achived with the `sort_tilts_by_angle()` function in the `tiltstack` module. This function requires both the original stack and the angles information as input. As for the information on the angles, this can be provided either as an array or as the path to a file containng angle information. In the latter case, accepted formats are mdoc files of Warp xlm files. Alternatively, you can pass a text file with the angle information. Please refer to `ioutils.tlt_load()` for more information on the accepted formats. To work further with the sorted stack, it is a good idea to update the mdoc file as well. this can be accomplished with the `sort_mdoc_by_tilt_angles()` function of the `mdoc` module. If you wish to write the output of the two functions to a file, you need to pass the path to the desired output to the `output_file` argument."
   ]
  },
  {
   "cell_type": "code",
   "execution_count": null,
   "metadata": {},
   "outputs": [],
   "source": [
    "# Define the paths to the original files\n",
    "original_stack = \"path/to/origoinal_stack.mrc\"\n",
    "original_mdoc = \"path/to/original_mdoc.mdoc\"\n",
    "\n",
    "# Sort the stack and the mdoc file\n",
    "sorted_STACK = tiltstack.sort_tilts_by_angle(original_stack, input_tilts=original_mdoc, output_file=\"/path/to/sorted_stack.mrc\")\n",
    "sorted_mdoc = mdoc.sort_mdoc_by_tilt_angles(original_mdoc, reset_z_value=True, output_file=\"/path/to/sorted_mdoc.mdoc\") "
   ]
  },
  {
   "cell_type": "markdown",
   "metadata": {},
   "source": [
    "## Remove tilt images from the stack"
   ]
  },
  {
   "cell_type": "markdown",
   "metadata": {},
   "source": [
    "## Dose filtering"
   ]
  },
  {
   "cell_type": "markdown",
   "metadata": {},
   "source": [
    "## Other functions\n",
    "### Merge and splitting tilt-series\n",
    "### Functions to aid visualization of tilt-series\n",
    "To help visualizing the tilt"
   ]
  }
 ],
 "metadata": {
  "kernelspec": {
   "display_name": "cryocat",
   "language": "python",
   "name": "python3"
  },
  "language_info": {
   "name": "python",
   "version": "3.9.18"
  }
 },
 "nbformat": 4,
 "nbformat_minor": 2
}
