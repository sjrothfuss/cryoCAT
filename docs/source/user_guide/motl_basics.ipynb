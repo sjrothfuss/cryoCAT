{
 "cells": [
  {
   "cell_type": "markdown",
   "metadata": {},
   "source": [
    "## Motl basics\n",
    "\n",
    "* Motl stands for \"motive list\" and it contains list of particles and their properties. It can be used in subtomogram averaging or to perform contextual analysis.\n",
    "* Internally, the particle list is stored within a Motl class as pandas DataFrame with 20 columns (see below) and N rows, where N corresponds to number of particles. \n",
    "* Externally, the particle list can be loaded from and written as a binary file in EM format (novaSTA, TOM/AV3, ArtiaX compatible), a RELION starfile (currently up to version 4.x), a STOPGAP starfile, and a simple CSV file. "
   ]
  },
  {
   "cell_type": "markdown",
   "metadata": {},
   "source": [
    "### Motl class\n",
    "\n",
    "* Motl class is a parent class containing functions that are general to all formats. \n",
    "* The particle list itself is stored in the member variable `df` as pandas DataFrame that has following columns:\n",
    "\n",
    "    1.  \"score\" - a quality metric (typically cross-correlation value between the particle and the reference)\n",
    "    2.  \"geom1\" - a free geometric property\n",
    "    3.  \"geom2\" - a free geometric property\n",
    "    4.  \"subtomo_id\" - a subtomogram id; **IMPORTANT** many functions rely on this one to be unique\n",
    "    5.  \"tomo_id\" - a tomogram id to which the particle is affiliated to\n",
    "    6.  \"object_id\" - an object id to which the particle is affiliated to\n",
    "    7.  \"subtomo_mean\" - a mean value of the subtomogram\n",
    "    8.  \"x\" - a position in the tomogram (an integer value), typically used for subtomogram extraction\n",
    "    9.  \"y\" - a position in the tomogram (an integer value), typically used for subtomogram extraction\n",
    "    10. \"z\" - a position in the tomogram (an integer value), typically used for subtomogram extraction\n",
    "    11. \"shift_x\" - shift of the particle in X direction (a float value); to complete position of a particle is given by x + shift_x\n",
    "    12. \"shift_y\" - shift of the particle in Y direction (a float value); to complete position of a particle is given by y + shift_y\n",
    "    13. \"shift_z\" - shift of the particle in Z direction (a float value); to complete position of a particle is given by z + shift_z\n",
    "    14. \"geom3\" - a free geometric property\n",
    "    15. \"geom4\" - a free geometric property\n",
    "    16. \"geom5\" - a free geometric property\n",
    "    17. \"phi\" - a phi angle describing rotation around the first Z axis (following Euler zxz convention)\n",
    "    18. \"psi\" - a psi angle describing rotation around the second Z axis (following Euler zxz convention)\n",
    "    19. \"theta\" - a thetha angle describing rotation around the X axis (following Euler zxz convention)\n",
    "    20. \"class\" - a class of the particle"
   ]
  },
  {
   "cell_type": "markdown",
   "metadata": {},
   "source": [
    "### Work with particle lists: Basic examples\n",
    "In the following section, some examples of how to use Motl files in your analyisis pipelines are provided. For a complete list of fucntions, please refer to the `cryomotl` module in the API guide. <br>\n",
    "NOTE: For all the functions displayed, it is assumed that the `cryomotl` module is imported:"
   ]
  },
  {
   "cell_type": "code",
   "execution_count": null,
   "metadata": {},
   "outputs": [],
   "source": [
    "import cryocat\n",
    "from cryocat import cryomotl"
   ]
  },
  {
   "cell_type": "markdown",
   "metadata": {},
   "source": [
    "#### Loading a particle list as a Motl object\n",
    "The first step to work with a particle list is to load it and store it as a Motl object. This can be accomplished with the `load()` function, which is used to initialized the Motl class. <br>\n",
    "Example:"
   ]
  },
  {
   "cell_type": "code",
   "execution_count": null,
   "metadata": {},
   "outputs": [],
   "source": [
    "my_motl = cryomotl.Motl.load('path/to/motl_file')"
   ]
  },
  {
   "cell_type": "markdown",
   "metadata": {},
   "source": [
    "Then, the properties of the particles can be displayed by inspecting the `df` attribute (dataframe)."
   ]
  },
  {
   "cell_type": "code",
   "execution_count": null,
   "metadata": {},
   "outputs": [],
   "source": [
    "my_motl.df"
   ]
  },
  {
   "cell_type": "markdown",
   "metadata": {},
   "source": [
    "This will print out the content of the pandas Dataframe will all the columns described in the previous section."
   ]
  },
  {
   "cell_type": "markdown",
   "metadata": {},
   "source": [
    "#### Extract a subset of particles\n",
    "To work on a subset of particles based on the value of a particular feature, you can extract them with the `get_motl.get_motl_subset()` function. By default, the feature that is taken into account is the tomogram ID (`tomo_id`) and it returns a new Motl object, however you cna ask for a panda DataFrame as well. Here are some examples:"
   ]
  },
  {
   "cell_type": "code",
   "execution_count": null,
   "metadata": {},
   "outputs": [],
   "source": [
    "subset_motl_tomo = my_motl.get_motl_subset(2) #select particles belonging to tomogram 2 and return a new motl object\n",
    "subset_motl_class = my_motl.get_motl_subset(1, feature_id=\"class\") #select particles belonging to class 1 and return a new motl object\n",
    "subset_df_tomo = my_motl.get_motl_subset(2, return_df=True) #select particles belonging to tomogram 2 and return a pandas dataframe"
   ]
  },
  {
   "cell_type": "markdown",
   "metadata": {},
   "source": [
    "#### Clean a particle list\n",
    "Different fucntions are available to clean particle list depending on the analysis pipeline. <br/>\n",
    "\n",
    "**Clean particles by distance:** Clean duplicate particles, commonly required when working with particles from oversampling. The function that accomplishes this is `clean_by_distance()`."
   ]
  },
  {
   "cell_type": "code",
   "execution_count": null,
   "metadata": {},
   "outputs": [],
   "source": [
    "my_motl.clean_by_distance(10) #remove particles that are closer than 10 voxels to each other, keeping the one with the highest score value\n",
    "my_motl.clean_by_distance(10, feature_id=\"class\") #remove particles that are closer than 10 voxels to each other, grouping the particles by class and keeping the one with the highest score value"
   ]
  },
  {
   "cell_type": "markdown",
   "metadata": {},
   "source": [
    "**Clean particles by CC value:** This is accomplished with the `clean_by_otsu()` function."
   ]
  },
  {
   "cell_type": "markdown",
   "metadata": {},
   "source": [
    "#### Write a Motl to disk\n",
    "If you have edited the `df` attribute of your Motl object or you generated a new Motl object and you wish to save them to a particle list file, you need to use the `write_out()` function:"
   ]
  },
  {
   "cell_type": "code",
   "execution_count": null,
   "metadata": {},
   "outputs": [],
   "source": [
    "my_motl.write_out(\"path/to/desired_output_file.em\") #this will save my_motl to desired_output_file.em"
   ]
  }
 ],
 "metadata": {
  "kernelspec": {
   "display_name": "cryocat",
   "language": "python",
   "name": "python3"
  },
  "language_info": {
   "name": "python",
   "version": "3.9.18"
  }
 },
 "nbformat": 4,
 "nbformat_minor": 2
}
