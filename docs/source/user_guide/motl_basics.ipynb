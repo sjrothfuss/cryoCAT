{
 "cells": [
  {
   "cell_type": "markdown",
   "metadata": {},
   "source": [
    "## Motl basics\n",
    "\n",
    "* Motl stands for \"motive list\" and it contains list of particles and their properties. It can be used in subtomogram averaging or to perform contextual analysis.\n",
    "* Internally, the particle list is stored within a Motl class as pandas DataFrame with 20 columns (see below) and N rows, where N corresponds to number of particles. \n",
    "* Externally, the particle list can be loaded from and written as a binary file in EM format (novaSTA, TOM/AV3, ArtiaX compatible), a RELION starfile (currently up to version 4.x), a STOPGAP starfile, and a simple CSV file. "
   ]
  },
  {
   "cell_type": "markdown",
   "metadata": {},
   "source": [
    "### Motl class\n",
    "\n",
    "* Motl class is a parent class containing functions that are general to all formats. \n",
    "* The particle list itself is stored in the member variable `df` as pandas DataFrame that has following columns:\n",
    "\n",
    "    1.  \"score\" - a quality metric (typically cross-correlation value between the particle and the reference)\n",
    "    2.  \"geom1\" - a free geometric property\n",
    "    3.  \"geom2\" - a free geometric property\n",
    "    4.  \"subtomo_id\" - a subtomogram id; **IMPORTANT** many functions rely on this one to be unique\n",
    "    5.  \"tomo_id\" - a tomogram id to which the particle is affiliated to\n",
    "    6.  \"object_id\" - an object id to which the particle is affiliated to\n",
    "    7.  \"subtomo_mean\" - a mean value of the subtomogram\n",
    "    8.  \"x\" - a position in the tomogram (an integer value), typically used for subtomogram extraction\n",
    "    9.  \"y\" - a position in the tomogram (an integer value), typically used for subtomogram extraction\n",
    "    10. \"z\" - a position in the tomogram (an integer value), typically used for subtomogram extraction\n",
    "    11. \"shift_x\" - shift of the particle in X direction (a float value); to complete position of a particle is given by x + shift_x\n",
    "    12. \"shift_y\" - shift of the particle in Y direction (a float value); to complete position of a particle is given by y + shift_y\n",
    "    13. \"shift_z\" - shift of the particle in Z direction (a float value); to complete position of a particle is given by z + shift_z\n",
    "    14. \"geom3\" - a free geometric property\n",
    "    15. \"geom4\" - a free geometric property\n",
    "    16. \"geom5\" - a free geometric property\n",
    "    17. \"phi\" - a phi angle describing rotation around the first Z axis (following Euler zxz convention)\n",
    "    18. \"psi\" - a psi angle describing rotation around the second Z axis (following Euler zxz convention)\n",
    "    19. \"theta\" - a thetha angle describing rotation around the X axis (following Euler zxz convention)\n",
    "    20. \"class\" - a class of the particle"
   ]
  },
  {
   "cell_type": "markdown",
   "metadata": {},
   "source": [
    "### Work with particle lists: Basic examples\n",
    "In the following section, some examples of how to use Motl files in your analyisis pipelines are provided. For a complete list of fucntions, please refer to the `cryomotl` module in the API guide. <br>\n",
    "NOTE: For all the functions displayed, it is assumed that the `cryomotl` module is imported:"
   ]
  },
  {
   "cell_type": "code",
   "execution_count": null,
   "metadata": {
    "vscode": {
     "languageId": "plaintext"
    }
   },
   "outputs": [],
   "source": [
    "import cryocat\n",
    "from cryocat import cryomotl"
   ]
  },
  {
   "cell_type": "markdown",
   "metadata": {},
   "source": [
    "#### Loading a particle list as a Motl object\n",
    "The first step to work with a particle list is to load it and store it as a Motl object. This can be accomplished with the `load()` function, which is used to initialized the Motl class. <br>\n",
    "Example:"
   ]
  },
  {
   "cell_type": "code",
   "execution_count": null,
   "metadata": {
    "vscode": {
     "languageId": "plaintext"
    }
   },
   "outputs": [],
   "source": [
    "motl = cryomotl.Motl.load('path/to/motl_file')"
   ]
  },
  {
   "cell_type": "markdown",
   "metadata": {},
   "source": [
    "Then, the properties of the particles can be displayed by inspecting the `df` attribute (dataframe)."
   ]
  },
  {
   "cell_type": "code",
   "execution_count": null,
   "metadata": {
    "vscode": {
     "languageId": "plaintext"
    }
   },
   "outputs": [],
   "source": [
    "motl.df"
   ]
  },
  {
   "cell_type": "markdown",
   "metadata": {},
   "source": [
    "This will print out the content of the pandas Dataframe will all the columns described in the previous section."
   ]
  }
 ],
 "metadata": {
  "language_info": {
   "name": "python"
  }
 },
 "nbformat": 4,
 "nbformat_minor": 2
}
